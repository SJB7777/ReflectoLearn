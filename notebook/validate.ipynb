{
 "cells": [
  {
   "cell_type": "code",
   "execution_count": 1,
   "id": "6b5c3794",
   "metadata": {},
   "outputs": [],
   "source": [
    "import sys\n",
    "\n",
    "sys.path.append(\"..\")"
   ]
  },
  {
   "cell_type": "code",
   "execution_count": null,
   "id": "49b05620",
   "metadata": {},
   "outputs": [],
   "source": [
    "from pathlib import Path\n",
    "\n",
    "import numpy as np\n",
    "from sklearn.model_selection import train_test_split\n",
    "import matplotlib.pyplot as plt\n",
    "from tqdm import tqdm\n",
    "\n",
    "from src.model_manager import MLPManager\n",
    "from src.loader import parse_out_data, parse_con_parameter\n",
    "from src.preprocess import fill_nan_with_interp"
   ]
  },
  {
   "cell_type": "code",
   "execution_count": null,
   "id": "64b501bb",
   "metadata": {},
   "outputs": [
    {
     "name": "stderr",
     "output_type": "stream",
     "text": [
      "Load: 100%|██████████| 10000/10000 [00:14<00:00, 703.22it/s]\n"
     ]
    }
   ],
   "source": [
    "model_path = (\n",
    "    Path(\"C:\\\\dev\\\\science\\\\xray_reflection\\\\XRRmaker\\\\models\") / \"mlp_model.pth\"\n",
    ")\n",
    "data_path = Path(\"C:\\\\dev\\\\science\\\\xray_reflection\\\\data\\\\simulation_data\")\n",
    "\n",
    "X_data = []\n",
    "y_data = []\n",
    "for num in tqdm(range(1, 10001), desc=\"Load\"):\n",
    "    out_file = data_path / f\"d{num:05}\" / \"1.out\"\n",
    "    con_file = data_path / f\"d{num:05}\" / \"1.con\"\n",
    "    data = parse_out_data(out_file)\n",
    "    x = data[[\"XOBS\", \"YCALC\"]].values\n",
    "    x = fill_nan_with_interp(x)\n",
    "    X_data.append(x)\n",
    "    y = np.asarray(parse_con_parameter(con_file))[\n",
    "        [4, 5, 6, 8, 9, 10, 11, 12, 13, 14, 15, 16, 17, 18, 19]\n",
    "    ]\n",
    "    y_data.append(y)\n",
    "\n",
    "X_data = np.stack(X_data, axis=0)\n",
    "y_data = np.stack(y_data, axis=0)"
   ]
  },
  {
   "cell_type": "code",
   "execution_count": 5,
   "id": "e40faf25",
   "metadata": {},
   "outputs": [
    {
     "name": "stdout",
     "output_type": "stream",
     "text": [
      "X_train shape: (8000, 314, 2), y_train shape: (8000, 15)\n",
      "X_test shape: (2000, 314, 2), y_test shape: (2000, 15)\n"
     ]
    }
   ],
   "source": [
    "# 테스트 데이터셋 비율 설정\n",
    "test_size = 0.2\n",
    "\n",
    "# 데이터 나누기\n",
    "X_train, X_test, y_train, y_test = train_test_split(\n",
    "    X_data, y_data, test_size=test_size, random_state=42, shuffle=True\n",
    ")\n",
    "\n",
    "# 나누어진 데이터셋 형상 확인\n",
    "print(f\"X_train shape: {X_train.shape}, y_train shape: {y_train.shape}\")\n",
    "print(f\"X_test shape: {X_test.shape}, y_test shape: {y_test.shape}\")"
   ]
  },
  {
   "cell_type": "code",
   "execution_count": 6,
   "id": "f01fca7b",
   "metadata": {},
   "outputs": [
    {
     "name": "stdout",
     "output_type": "stream",
     "text": [
      "Epoch 1/5 - Train Loss: 12094.8799 - Val Loss: 50626.7939\n",
      "Epoch 2/5 - Train Loss: 5994.1267 - Val Loss: 3012409.6600\n",
      "Epoch 3/5 - Train Loss: 5532.6660 - Val Loss: 12780.3324\n",
      "Epoch 4/5 - Train Loss: 5485.5073 - Val Loss: 5937.8395\n",
      "Epoch 5/5 - Train Loss: 5460.9874 - Val Loss: 5787.9304\n",
      "Model saved to C:\\dev\\science\\xray_reflection\\XRRmaker\\models\\xrrmlp_model.pth\n"
     ]
    },
    {
     "data": {
      "image/png": "[encoded data removed]",
      "text/plain": [
       "<Figure size 640x480 with 1 Axes>"
      ]
     },
     "metadata": {},
     "output_type": "display_data"
    }
   ],
   "source": [
    "input_dim: int = X_data.shape[1] * X_data.shape[2]\n",
    "output_dim: int = y_data.shape[1]\n",
    "manager = MLPManager(input_dim=input_dim, output_dim=output_dim, learning_rate=1e-3)\n",
    "\n",
    "history = manager.train(\n",
    "    X_data=X_data,\n",
    "    y_data=y_data,\n",
    "    model_path=model_path,\n",
    "    epochs=5,\n",
    "    batch_size=64,\n",
    "    val_ratio=0.1,\n",
    "    print_every=1,\n",
    ")\n",
    "\n",
    "epochs = range(1, len(history[\"train_loss\"]) + 1)\n",
    "plt.plot(epochs, history[\"train_loss\"], label=\"Train Loss\")\n",
    "plt.plot(epochs, history[\"val_loss\"], label=\"Val Loss\")\n",
    "plt.title(\"Training and Validation Loss\")\n",
    "plt.xlabel(\"Epochs\")\n",
    "plt.ylabel(\"Loss\")\n",
    "plt.legend();"
   ]
  },
  {
   "cell_type": "code",
   "execution_count": 7,
   "id": "639adb50",
   "metadata": {},
   "outputs": [
    {
     "name": "stdout",
     "output_type": "stream",
     "text": [
      "Predictions Shape: (2000, 15)\n"
     ]
    }
   ],
   "source": [
    "predictions = manager.predict(X_test, model_path=model_path)\n",
    "\n",
    "idxs = [i + 1 for i in [4, 5, 6, 8, 9, 10, 11, 12, 13, 14, 15, 16, 17, 18, 19]]\n",
    "print(\"Predictions Shape:\", predictions.shape)"
   ]
  },
  {
   "cell_type": "code",
   "execution_count": 8,
   "id": "7a9c3a4e",
   "metadata": {},
   "outputs": [
    {
     "name": "stdout",
     "output_type": "stream",
     "text": [
      "Mean Squared Error (MSE): 5848.1583\n",
      "Mean Absolute Error (MAE): 42.3054\n",
      "Output Dim 4 - MSE: 1.1389, MAE: 0.8779\n",
      "Output Dim 5 - MSE: 235.9021, MAE: 13.1653\n",
      "Output Dim 6 - MSE: 649.8621, MAE: 19.7830\n",
      "Output Dim 8 - MSE: 5.3941, MAE: 1.8955\n",
      "Output Dim 9 - MSE: 5818.4740, MAE: 63.1531\n",
      "Output Dim 10 - MSE: 27.6907, MAE: 4.3318\n",
      "Output Dim 11 - MSE: 21690.4110, MAE: 126.2728\n",
      "Output Dim 12 - MSE: 12.9303, MAE: 2.9331\n",
      "Output Dim 13 - MSE: 6341.8739, MAE: 65.1735\n",
      "Output Dim 14 - MSE: 2.9594, MAE: 1.4324\n",
      "Output Dim 15 - MSE: 23187.5979, MAE: 131.1512\n",
      "Output Dim 16 - MSE: 4.3870, MAE: 1.7335\n",
      "Output Dim 17 - MSE: 6501.9412, MAE: 67.3141\n",
      "Output Dim 18 - MSE: 29.1219, MAE: 4.4052\n",
      "Output Dim 19 - MSE: 23212.6908, MAE: 130.9580\n"
     ]
    }
   ],
   "source": [
    "from sklearn.metrics import mean_squared_error, mean_absolute_error\n",
    "\n",
    "# 모델 평가\n",
    "# 평균 제곱 오차 (MSE) 계산\n",
    "mse = mean_squared_error(y_test, predictions)\n",
    "print(f\"Mean Squared Error (MSE): {mse:.4f}\")\n",
    "\n",
    "# 평균 절대 오차 (MAE) 계산\n",
    "mae = mean_absolute_error(y_test, predictions)\n",
    "print(f\"Mean Absolute Error (MAE): {mae:.4f}\")\n",
    "\n",
    "output_dim_indices = [4, 5, 6, 8, 9, 10, 11, 12, 13, 14, 15, 16, 17, 18, 19]\n",
    "for i, idx in enumerate(output_dim_indices):\n",
    "    mse_single = mean_squared_error(y_test[:, i], predictions[:, i])\n",
    "    mae_single = mean_absolute_error(y_test[:, i], predictions[:, i])\n",
    "    print(f\"Output Dim {idx} - MSE: {mse_single:.4f}, MAE: {mae_single:.4f}\")"
   ]
  }
 ],
 "metadata": {
  "kernelspec": {
   "display_name": "xrr_RL",
   "language": "python",
   "name": "python3"
  },
  "language_info": {
   "codemirror_mode": {
    "name": "ipython",
    "version": 3
   },
   "file_extension": ".py",
   "mimetype": "text/x-python",
   "name": "python",
   "nbconvert_exporter": "python",
   "pygments_lexer": "ipython3",
   "version": "3.13.2"
  }
 },
 "nbformat": 4,
 "nbformat_minor": 5
}
