{
 "cells": [
  {
   "cell_type": "code",
   "execution_count": 1,
   "id": "6b5c3794",
   "metadata": {},
   "outputs": [],
   "source": [
    "import sys\n",
    "\n",
    "sys.path.append(\"..\")"
   ]
  },
  {
   "cell_type": "code",
   "execution_count": 2,
   "id": "49b05620",
   "metadata": {},
   "outputs": [],
   "source": [
    "from pathlib import Path\n",
    "\n",
    "import numpy as np\n",
    "from sklearn.model_selection import train_test_split\n",
    "import matplotlib.pyplot as plt\n",
    "from tqdm import tqdm\n",
    "\n",
    "from src.model_manager import MLPManager\n",
    "from src.loader import parse_out_data, parse_con_parameter\n",
    "from src.preprocess import fill_nan_with_interp"
   ]
  },
  {
   "cell_type": "code",
   "execution_count": 3,
   "id": "dbe5e8e7",
   "metadata": {},
   "outputs": [],
   "source": [
    "def normalize(data):\n",
    "    \"\"\"\n",
    "    Normalize the data to the range [0, 1].\n",
    "    \"\"\"\n",
    "    data_min = np.min(data)\n",
    "    data_max = np.max(data)\n",
    "    return (data - data_min) / (data_max - data_min)"
   ]
  },
  {
   "cell_type": "code",
   "execution_count": 4,
   "id": "64b501bb",
   "metadata": {},
   "outputs": [
    {
     "name": "stderr",
     "output_type": "stream",
     "text": [
      "Load: 100%|██████████| 100000/100000 [18:35<00:00, 89.61it/s]\n"
     ]
    }
   ],
   "source": [
    "model_path = (\n",
    "    Path(\"C:\\\\dev\\\\science\\\\xray_reflection\\\\XRRmaker\\\\models\") / \"mlp_model.pth\"\n",
    ")\n",
    "data_path = Path(\"C:\\\\dev\\\\science\\\\xray_reflection\\\\data\\\\simulation_data2\")\n",
    "\n",
    "X_data = []\n",
    "y_data = []\n",
    "for num in tqdm(range(1, 100001), desc=\"Load\"):\n",
    "    out_file = data_path / f\"d{num:05}\" / \"1.out\"\n",
    "    con_file = data_path / f\"d{num:05}\" / \"1.con\"\n",
    "    data = parse_out_data(out_file)\n",
    "    x = data[[\"XOBS\", \"YCALC\"]].values\n",
    "    x = fill_nan_with_interp(x)\n",
    "    X_data.append(x)\n",
    "    y = np.asarray(parse_con_parameter(con_file))  # [[6, 10, 11, 14, 15, 18, 19]]\n",
    "    y_data.append(y)\n",
    "\n",
    "X_data = np.stack(X_data, axis=0)\n",
    "y_data = np.stack(y_data, axis=0)"
   ]
  },
  {
   "cell_type": "code",
   "execution_count": 5,
   "id": "4c544a01",
   "metadata": {},
   "outputs": [],
   "source": [
    "X_data = normalize(X_data)\n",
    "y_data = normalize(y_data)"
   ]
  },
  {
   "cell_type": "code",
   "execution_count": 6,
   "id": "e40faf25",
   "metadata": {},
   "outputs": [
    {
     "name": "stdout",
     "output_type": "stream",
     "text": [
      "X_train shape: (80000, 314, 2), y_train shape: (80000, 12)\n",
      "X_test shape: (20000, 314, 2), y_test shape: (20000, 12)\n"
     ]
    }
   ],
   "source": [
    "# 테스트 데이터셋 비율 설정\n",
    "test_size = 0.2\n",
    "\n",
    "# 데이터 나누기\n",
    "X_train, X_test, y_train, y_test = train_test_split(\n",
    "    X_data, y_data, test_size=test_size, random_state=42, shuffle=True\n",
    ")\n",
    "\n",
    "# 나누어진 데이터셋 형상 확인\n",
    "print(f\"X_train shape: {X_train.shape}, y_train shape: {y_train.shape}\")\n",
    "print(f\"X_test shape: {X_test.shape}, y_test shape: {y_test.shape}\")"
   ]
  },
  {
   "cell_type": "code",
   "execution_count": 12,
   "id": "f01fca7b",
   "metadata": {},
   "outputs": [
    {
     "name": "stdout",
     "output_type": "stream",
     "text": [
      "Initialized MLPManager on device: cpu\n",
      "Epoch 1/25 - Train Loss: 0.0073 - Val Loss: 0.0051\n",
      "Epoch 2/25 - Train Loss: 0.0051 - Val Loss: 0.0049\n",
      "Epoch 3/25 - Train Loss: 0.0050 - Val Loss: 0.0049\n",
      "Epoch 4/25 - Train Loss: 0.0049 - Val Loss: 0.0049\n",
      "Epoch 5/25 - Train Loss: 0.0049 - Val Loss: 0.0048\n",
      "Epoch 6/25 - Train Loss: 0.0049 - Val Loss: 0.0048\n",
      "Epoch 7/25 - Train Loss: 0.0048 - Val Loss: 0.0048\n",
      "Epoch 8/25 - Train Loss: 0.0048 - Val Loss: 0.0048\n",
      "Epoch 9/25 - Train Loss: 0.0048 - Val Loss: 0.0048\n",
      "Epoch 10/25 - Train Loss: 0.0048 - Val Loss: 0.0048\n",
      "Epoch 11/25 - Train Loss: 0.0048 - Val Loss: 0.0048\n",
      "Epoch 12/25 - Train Loss: 0.0048 - Val Loss: 0.0048\n",
      "Epoch 13/25 - Train Loss: 0.0048 - Val Loss: 0.0048\n",
      "Epoch 14/25 - Train Loss: 0.0048 - Val Loss: 0.0048\n",
      "Epoch 15/25 - Train Loss: 0.0048 - Val Loss: 0.0048\n",
      "Epoch 16/25 - Train Loss: 0.0048 - Val Loss: 0.0048\n",
      "Epoch 17/25 - Train Loss: 0.0048 - Val Loss: 0.0048\n",
      "Epoch 18/25 - Train Loss: 0.0048 - Val Loss: 0.0048\n",
      "Epoch 19/25 - Train Loss: 0.0048 - Val Loss: 0.0048\n",
      "Epoch 20/25 - Train Loss: 0.0048 - Val Loss: 0.0048\n",
      "Epoch 21/25 - Train Loss: 0.0048 - Val Loss: 0.0048\n",
      "Epoch 22/25 - Train Loss: 0.0048 - Val Loss: 0.0048\n",
      "Epoch 23/25 - Train Loss: 0.0048 - Val Loss: 0.0048\n",
      "Epoch 24/25 - Train Loss: 0.0048 - Val Loss: 0.0048\n",
      "Epoch 25/25 - Train Loss: 0.0048 - Val Loss: 0.0048\n",
      "Model saved to C:\\dev\\science\\xray_reflection\\XRRmaker\\models\\mlp_model.pth\n"
     ]
    },
    {
     "data": {
      "image/png": "[encoded data removed]",
      "text/plain": [
       "<Figure size 640x480 with 1 Axes>"
      ]
     },
     "metadata": {},
     "output_type": "display_data"
    }
   ],
   "source": [
    "input_dim: int = X_data.shape[1] * X_data.shape[2]\n",
    "output_dim: int = y_data.shape[1]\n",
    "manager = MLPManager(input_dim=input_dim, output_dim=output_dim, learning_rate=1e-5)\n",
    "\n",
    "history = manager.train(\n",
    "    X_data=X_data,\n",
    "    y_data=y_data,\n",
    "    model_path=model_path,\n",
    "    epochs=25,\n",
    "    batch_size=64,\n",
    "    val_ratio=0.1,\n",
    ")\n",
    "\n",
    "epochs = range(1, len(history[\"train_loss\"]) + 1)\n",
    "plt.plot(epochs, history[\"train_loss\"], label=\"Train Loss\")\n",
    "plt.plot(epochs, history[\"val_loss\"], label=\"Val Loss\")\n",
    "plt.title(\"Training and Validation Loss\")\n",
    "plt.xlabel(\"Epochs\")\n",
    "plt.ylabel(\"Loss\")\n",
    "plt.legend();"
   ]
  },
  {
   "cell_type": "code",
   "execution_count": 8,
   "id": "639adb50",
   "metadata": {},
   "outputs": [
    {
     "name": "stdout",
     "output_type": "stream",
     "text": [
      "Model state loaded from C:\\dev\\science\\xray_reflection\\XRRmaker\\models\\mlp_model.pth\n",
      "Predictions Shape: (20000, 12)\n"
     ]
    }
   ],
   "source": [
    "predictions = manager.predict(X_test, model_path=model_path)\n",
    "\n",
    "print(\"Predictions Shape:\", predictions.shape)"
   ]
  },
  {
   "cell_type": "code",
   "execution_count": 9,
   "id": "7a9c3a4e",
   "metadata": {},
   "outputs": [
    {
     "name": "stdout",
     "output_type": "stream",
     "text": [
      "Mean Squared Error (MSE): 0.0047\n",
      "Mean Absolute Error (MAE): 0.0239\n",
      "Output Dim 0 - MSE: 0.0000, MAE: 0.0026\n",
      "Output Dim 1 - MSE: 0.0000, MAE: 0.0028\n",
      "Output Dim 2 - MSE: 0.0000, MAE: 0.0028\n",
      "Output Dim 3 - MSE: 0.0000, MAE: 0.0029\n",
      "Output Dim 4 - MSE: 0.0000, MAE: 0.0035\n",
      "Output Dim 5 - MSE: 0.0005, MAE: 0.0180\n",
      "Output Dim 6 - MSE: 0.0000, MAE: 0.0036\n",
      "Output Dim 7 - MSE: 0.0000, MAE: 0.0024\n",
      "Output Dim 8 - MSE: 0.0005, MAE: 0.0187\n",
      "Output Dim 9 - MSE: 0.0005, MAE: 0.0186\n",
      "Output Dim 10 - MSE: 0.0003, MAE: 0.0142\n",
      "Output Dim 11 - MSE: 0.0547, MAE: 0.1972\n"
     ]
    }
   ],
   "source": [
    "from sklearn.metrics import mean_squared_error, mean_absolute_error\n",
    "\n",
    "# 모델 평가\n",
    "# 평균 제곱 오차 (MSE) 계산\n",
    "mse = mean_squared_error(y_test, predictions)\n",
    "print(f\"Mean Squared Error (MSE): {mse:.4f}\")\n",
    "\n",
    "# 평균 절대 오차 (MAE) 계산\n",
    "mae = mean_absolute_error(y_test, predictions)\n",
    "print(f\"Mean Absolute Error (MAE): {mae:.4f}\")\n",
    "\n",
    "output_dim_indices = list(range(y_data.shape[1]))\n",
    "for i, idx in enumerate(output_dim_indices):\n",
    "    mse_single = mean_squared_error(y_test[:, i], predictions[:, i])\n",
    "    mae_single = mean_absolute_error(y_test[:, i], predictions[:, i])\n",
    "    print(f\"Output Dim {idx} - MSE: {mse_single:.4f}, MAE: {mae_single:.4f}\")"
   ]
  }
 ],
 "metadata": {
  "kernelspec": {
   "display_name": "xrr",
   "language": "python",
   "name": "python3"
  },
  "language_info": {
   "codemirror_mode": {
    "name": "ipython",
    "version": 3
   },
   "file_extension": ".py",
   "mimetype": "text/x-python",
   "name": "python",
   "nbconvert_exporter": "python",
   "pygments_lexer": "ipython3",
   "version": "3.13.2"
  }
 },
 "nbformat": 4,
 "nbformat_minor": 5
}
