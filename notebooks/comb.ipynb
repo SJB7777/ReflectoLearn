{
 "cells": [
  {
   "cell_type": "code",
   "execution_count": null,
   "id": "4db036c1",
   "metadata": {},
   "outputs": [
    {
     "name": "stdout",
     "output_type": "stream",
     "text": [
      "[{'a'}, {'b', 'a'}, {'c', 'a'}, {'b', 'a'}, {'c', 'b', 'a'}, {'c', 'a'}, {'b'}, {'c', 'b'}, {'c', 'b'}, {'c'}]\n"
     ]
    }
   ],
   "source": [
    "from itertools import combinations_with_replacement\n",
    "\n",
    "items = [\"a\", \"b\", \"c\"]\n",
    "combs = [set(comb) for comb in combinations_with_replacement(items, len(items))]\n",
    "print(combs)"
   ]
  },
  {
   "cell_type": "code",
   "execution_count": null,
   "id": "dd1581f9",
   "metadata": {},
   "outputs": [],
   "source": [
    "from collections.abc import Callable, Collection\n",
    "from typing import Any\n",
    "\n",
    "\n",
    "def jooho_comb(elements, func: Callable[[Collection], Any] = lambda x:x):\n",
    "    \"\"\"Get every possible subsets and apply a function\"\"\"\n",
    "    return [func(set(comb)) for comb in combinations_with_replacement(elements, len(elements))]"
   ]
  },
  {
   "cell_type": "code",
   "execution_count": 7,
   "id": "9892ef5a",
   "metadata": {},
   "outputs": [
    {
     "data": {
      "text/plain": [
       "[3, 10, 16, 10, 23, 16, 7, 20, 20, 13]"
      ]
     },
     "execution_count": 7,
     "metadata": {},
     "output_type": "execute_result"
    }
   ],
   "source": [
    "jooho_comb([3, 7, 13], sum)"
   ]
  },
  {
   "cell_type": "code",
   "execution_count": 10,
   "id": "623d4fe3",
   "metadata": {},
   "outputs": [
    {
     "data": {
      "text/plain": [
       "['3',\n",
       " '3, 7',\n",
       " '3, 13',\n",
       " '3, 7',\n",
       " '3, 7, 13',\n",
       " '3, 13',\n",
       " '7',\n",
       " '7, 13',\n",
       " '7, 13',\n",
       " '13']"
      ]
     },
     "execution_count": 10,
     "metadata": {},
     "output_type": "execute_result"
    }
   ],
   "source": [
    "jooho_comb([3, 7, 13], lambda xs: \", \".join(map(str, sorted(xs))))"
   ]
  }
 ],
 "metadata": {
  "kernelspec": {
   "display_name": "reflectolearn",
   "language": "python",
   "name": "python3"
  },
  "language_info": {
   "codemirror_mode": {
    "name": "ipython",
    "version": 3
   },
   "file_extension": ".py",
   "mimetype": "text/x-python",
   "name": "python",
   "nbconvert_exporter": "python",
   "pygments_lexer": "ipython3",
   "version": "3.12.0"
  }
 },
 "nbformat": 4,
 "nbformat_minor": 5
}
