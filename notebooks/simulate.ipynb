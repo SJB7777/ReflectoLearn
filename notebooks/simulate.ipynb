{
 "cells": [
  {
   "cell_type": "code",
   "execution_count": 2,
   "id": "d97a8129",
   "metadata": {},
   "outputs": [
    {
     "name": "stdout",
     "output_type": "stream",
     "text": [
      "notebook_dir: d:\\Isaac\\Dev\\ReflectoLearn\\notebooks\n",
      "Calculated project_root: d:\\Isaac\\Dev\\ReflectoLearn\n"
     ]
    }
   ],
   "source": [
    "%reload_ext autoreload\n",
    "%autoreload 2\n",
    "\n",
    "import sys\n",
    "from pathlib import Path\n",
    "import os\n",
    "\n",
    "notebook_dir = os.getcwd()\n",
    "project_root = os.path.abspath(os.path.join(notebook_dir, os.pardir))\n",
    "print(f\"notebook_dir: {notebook_dir}\")\n",
    "print(f\"Calculated project_root: {project_root}\")\n",
    "if project_root not in sys.path:\n",
    "    sys.path.insert(0, project_root)"
   ]
  },
  {
   "cell_type": "code",
   "execution_count": 3,
   "id": "6ef87517",
   "metadata": {},
   "outputs": [],
   "source": [
    "import numpy as np\n",
    "import matplotlib.pyplot as plt\n",
    "\n",
    "from reflectolearn.data_processing.simulate import make_parameters, add_xrr_noise, structure2R, make_n_layer_structure"
   ]
  },
  {
   "cell_type": "code",
   "execution_count": 10,
   "id": "b22d1ce9",
   "metadata": {},
   "outputs": [
    {
     "name": "stdout",
     "output_type": "stream",
     "text": [
      "thickness: 393.23804403227194\n",
      "rougnness: 157.2952176129088\n",
      "sld: 6.819634875776501\n",
      "thickness: 778.8992268285367\n",
      "rougnness: 311.5596907314147\n",
      "sld: 11.502403949952374\n",
      "thickness: 308.5427793057507\n",
      "rougnness: 123.41711172230028\n",
      "sld: 8.767444743832765\n",
      "thickness: 761.7058637211147\n",
      "rougnness: 304.6823454884459\n",
      "sld: 6.106065828183763\n",
      "thickness: 838.0266473077455\n",
      "rougnness: 335.2106589230982\n",
      "sld: 3.5869779620332114\n"
     ]
    }
   ],
   "source": [
    "n: int = 5\n",
    "thicknesses, roughnesses, slds = make_parameters(n)\n",
    "for thickness, roughness, sld in zip(thicknesses, roughnesses, slds):\n",
    "    print(f\"thickness: {thickness}\")\n",
    "    print(f'rougnness: {roughness}')\n",
    "    print(f'sld: {sld}')"
   ]
  },
  {
   "cell_type": "code",
   "execution_count": 11,
   "id": "9f74ac58",
   "metadata": {},
   "outputs": [
    {
     "name": "stdout",
     "output_type": "stream",
     "text": [
      "________________________________________________________________________________\n",
      "Structure:                \n",
      "solvent: None\n",
      "reverse structure: False\n",
      "contract: 0\n",
      "\n",
      "________________________________________________________________________________\n",
      "Parameters:      'Air'     \n",
      "<Parameter: 'Air - thick' , value=0  (fixed) , bounds=[-inf, inf]>\n",
      "________________________________________________________________________________\n",
      "Parameters:      'Air'     \n",
      "<Parameter:  'Air - sld'  , value=0  (fixed) , bounds=[-inf, inf]>\n",
      "<Parameter: 'Air - isld'  , value=0  (fixed) , bounds=[-inf, inf]>\n",
      "<Parameter: 'Air - rough' , value=0  (fixed) , bounds=[-inf, inf]>\n",
      "<Parameter:'Air - volfrac solvent', value=0  (fixed) , bounds=[0.0, 1.0]>\n",
      "================================================================================\n",
      "Stack start: 5 repeats\n",
      "________________________________________________________________________________\n",
      "Parameters: 'Film SLD=6.819634875776501'\n",
      "<Parameter:'Film SLD=6.819634875776501 - thick', value=393.238  (fixed) , bounds=[-inf, inf]>\n",
      "________________________________________________________________________________\n",
      "Parameters: 'Film SLD=6.819634875776501'\n",
      "<Parameter:'Film SLD=6.819634875776501 - sld', value=6.81963  (fixed) , bounds=[-inf, inf]>\n",
      "<Parameter:'Film SLD=6.819634875776501 - isld', value=0  (fixed) , bounds=[-inf, inf]>\n",
      "<Parameter:'Film SLD=6.819634875776501 - rough', value=157.295  (fixed) , bounds=[-inf, inf]>\n",
      "<Parameter:'Film SLD=6.819634875776501 - volfrac solvent', value=0  (fixed) , bounds=[0.0, 1.0]>\n",
      "________________________________________________________________________________\n",
      "Parameters: 'Film SLD=11.502403949952374'\n",
      "<Parameter:'Film SLD=11.502403949952374 - thick', value=778.899  (fixed) , bounds=[-inf, inf]>\n",
      "________________________________________________________________________________\n",
      "Parameters: 'Film SLD=11.502403949952374'\n",
      "<Parameter:'Film SLD=11.502403949952374 - sld', value=11.5024  (fixed) , bounds=[-inf, inf]>\n",
      "<Parameter:'Film SLD=11.502403949952374 - isld', value=0  (fixed) , bounds=[-inf, inf]>\n",
      "<Parameter:'Film SLD=11.502403949952374 - rough', value=311.56  (fixed) , bounds=[-inf, inf]>\n",
      "<Parameter:'Film SLD=11.502403949952374 - volfrac solvent', value=0  (fixed) , bounds=[0.0, 1.0]>\n",
      "________________________________________________________________________________\n",
      "Parameters: 'Film SLD=8.767444743832765'\n",
      "<Parameter:'Film SLD=8.767444743832765 - thick', value=308.543  (fixed) , bounds=[-inf, inf]>\n",
      "________________________________________________________________________________\n",
      "Parameters: 'Film SLD=8.767444743832765'\n",
      "<Parameter:'Film SLD=8.767444743832765 - sld', value=8.76744  (fixed) , bounds=[-inf, inf]>\n",
      "<Parameter:'Film SLD=8.767444743832765 - isld', value=0  (fixed) , bounds=[-inf, inf]>\n",
      "<Parameter:'Film SLD=8.767444743832765 - rough', value=123.417  (fixed) , bounds=[-inf, inf]>\n",
      "<Parameter:'Film SLD=8.767444743832765 - volfrac solvent', value=0  (fixed) , bounds=[0.0, 1.0]>\n",
      "________________________________________________________________________________\n",
      "Parameters: 'Film SLD=6.106065828183763'\n",
      "<Parameter:'Film SLD=6.106065828183763 - thick', value=761.706  (fixed) , bounds=[-inf, inf]>\n",
      "________________________________________________________________________________\n",
      "Parameters: 'Film SLD=6.106065828183763'\n",
      "<Parameter:'Film SLD=6.106065828183763 - sld', value=6.10607  (fixed) , bounds=[-inf, inf]>\n",
      "<Parameter:'Film SLD=6.106065828183763 - isld', value=0  (fixed) , bounds=[-inf, inf]>\n",
      "<Parameter:'Film SLD=6.106065828183763 - rough', value=304.682  (fixed) , bounds=[-inf, inf]>\n",
      "<Parameter:'Film SLD=6.106065828183763 - volfrac solvent', value=0  (fixed) , bounds=[0.0, 1.0]>\n",
      "________________________________________________________________________________\n",
      "Parameters: 'Film SLD=3.5869779620332114'\n",
      "<Parameter:'Film SLD=3.5869779620332114 - thick', value=838.027  (fixed) , bounds=[-inf, inf]>\n",
      "________________________________________________________________________________\n",
      "Parameters: 'Film SLD=3.5869779620332114'\n",
      "<Parameter:'Film SLD=3.5869779620332114 - sld', value=3.58698  (fixed) , bounds=[-inf, inf]>\n",
      "<Parameter:'Film SLD=3.5869779620332114 - isld', value=0  (fixed) , bounds=[-inf, inf]>\n",
      "<Parameter:'Film SLD=3.5869779620332114 - rough', value=335.211  (fixed) , bounds=[-inf, inf]>\n",
      "<Parameter:'Film SLD=3.5869779620332114 - volfrac solvent', value=0  (fixed) , bounds=[0.0, 1.0]>\n",
      "Stack finish\n",
      "================================================================================\n",
      "________________________________________________________________________________\n",
      "Parameters:   'Substrate'  \n",
      "<Parameter:'Substrate - thick', value=0  (fixed) , bounds=[-inf, inf]>\n",
      "________________________________________________________________________________\n",
      "Parameters:   'Substrate'  \n",
      "<Parameter:'Substrate - sld', value=2  (fixed) , bounds=[-inf, inf]>\n",
      "<Parameter:'Substrate - isld', value=0  (fixed) , bounds=[-inf, inf]>\n",
      "<Parameter:'Substrate - rough', value=3  (fixed) , bounds=[-inf, inf]>\n",
      "<Parameter:'Substrate - volfrac solvent', value=0  (fixed) , bounds=[0.0, 1.0]>\n"
     ]
    }
   ],
   "source": [
    "structure = make_n_layer_structure(thicknesses, roughnesses, slds)\n",
    "print(structure)"
   ]
  },
  {
   "cell_type": "code",
   "execution_count": 14,
   "id": "470e6dab",
   "metadata": {},
   "outputs": [
    {
     "data": {
      "text/plain": [
       "[]"
      ]
     },
     "execution_count": 14,
     "metadata": {},
     "output_type": "execute_result"
    },
    {
     "data": {
      "image/png": "[encoded data removed]",
      "text/plain": [
       "<Figure size 600x600 with 1 Axes>"
      ]
     },
     "metadata": {},
     "output_type": "display_data"
    }
   ],
   "source": [
    "q = np.linspace(0.03, 0.3, 128)\n",
    "R = structure2R(structure, q)\n",
    "fig, ax = plt.subplots(1, 1, figsize=(6, 6))\n",
    "ax.plot(q, R)\n",
    "ax.semilogy()"
   ]
  },
  {
   "cell_type": "code",
   "execution_count": null,
   "id": "d2038c22",
   "metadata": {},
   "outputs": [],
   "source": []
  }
 ],
 "metadata": {
  "kernelspec": {
   "display_name": "reflectolearn",
   "language": "python",
   "name": "python3"
  },
  "language_info": {
   "codemirror_mode": {
    "name": "ipython",
    "version": 3
   },
   "file_extension": ".py",
   "mimetype": "text/x-python",
   "name": "python",
   "nbconvert_exporter": "python",
   "pygments_lexer": "ipython3",
   "version": "3.12.10"
  }
 },
 "nbformat": 4,
 "nbformat_minor": 5
}
